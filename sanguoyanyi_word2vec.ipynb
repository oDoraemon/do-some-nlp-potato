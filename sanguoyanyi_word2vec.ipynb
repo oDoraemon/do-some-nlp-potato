{
 "cells": [
  {
   "cell_type": "code",
   "execution_count": 533,
   "id": "temporal-trading",
   "metadata": {},
   "outputs": [],
   "source": [
    "import gensim\n",
    "import re"
   ]
  },
  {
   "cell_type": "code",
   "execution_count": 534,
   "id": "continuing-width",
   "metadata": {},
   "outputs": [],
   "source": [
    "document = []\n",
    "with open(\"三国演义.txt\", 'r') as f:\n",
    "    document = f.readlines()"
   ]
  },
  {
   "cell_type": "code",
   "execution_count": 535,
   "id": "norman-discount",
   "metadata": {},
   "outputs": [],
   "source": [
    "docs = []\n",
    "for doc in document:\n",
    "    line = doc.replace(\"\\n\", \"\")\n",
    "    line = line.strip()\n",
    "    if len(line) != 0:\n",
    "        docs.append('_'.join(re.findall(r'([\\u4e00-\\u9fa5\\s]+)', line))) # 仅包含中文字符，不包括标点符号"
   ]
  },
  {
   "cell_type": "code",
   "execution_count": 536,
   "id": "dental-lawsuit",
   "metadata": {},
   "outputs": [
    {
     "data": {
      "text/plain": [
       "['天涯在线书库',\n",
       " '三国演义',\n",
       " '第_回 宴桃园豪杰三结义 斩黄巾英雄首立功',\n",
       " '滚滚长江东逝水_浪花淘尽英雄_是非成败转头空',\n",
       " '青山依旧在_几度夕阳红_白发渔樵江渚上_惯']"
      ]
     },
     "execution_count": 536,
     "metadata": {},
     "output_type": "execute_result"
    }
   ],
   "source": [
    "docs[:5]"
   ]
  },
  {
   "cell_type": "code",
   "execution_count": 560,
   "id": "incoming-looking",
   "metadata": {},
   "outputs": [],
   "source": [
    "words = []\n",
    "for line in docs:\n",
    "    for word in line.split('_'):\n",
    "        for w in word.split(' '):\n",
    "            if len(w) > 0:\n",
    "                w = w.strip()\n",
    "                words.append(w)"
   ]
  },
  {
   "cell_type": "code",
   "execution_count": 561,
   "id": "moved-system",
   "metadata": {},
   "outputs": [
    {
     "data": {
      "text/plain": [
       "90706"
      ]
     },
     "execution_count": 561,
     "metadata": {},
     "output_type": "execute_result"
    }
   ],
   "source": [
    "len(words)"
   ]
  },
  {
   "cell_type": "code",
   "execution_count": 562,
   "id": "electrical-vacation",
   "metadata": {},
   "outputs": [
    {
     "data": {
      "text/plain": [
       "[(353, '孔明曰'),\n",
       " (336, '玄德曰'),\n",
       " (281, '躁曰'),\n",
       " (206, '次日'),\n",
       " (142, '曰'),\n",
       " (122, '正是'),\n",
       " (104, '肃曰'),\n",
       " (101, '瑜曰'),\n",
       " (90, '张'),\n",
       " (87, '权曰'),\n",
       " (82, '懿曰'),\n",
       " (80, '且看下文分解'),\n",
       " (70, '第'),\n",
       " (70, '回'),\n",
       " (69, '布曰'),\n",
       " (63, '如之奈何'),\n",
       " (63, '关')]"
      ]
     },
     "execution_count": 562,
     "metadata": {},
     "output_type": "execute_result"
    }
   ],
   "source": [
    "from collections import defaultdict\n",
    "import heapq\n",
    "word_freq = defaultdict(int)\n",
    "word_pq= []\n",
    "for word in words:\n",
    "    word_freq[word] += 1\n",
    "for k, v in word_freq.items():\n",
    "    heapq.heappush(word_pq, (v, k))\n",
    "heapq.nlargest(17, word_pq)\n",
    "# （关、张，代称时被、划分）"
   ]
  },
  {
   "cell_type": "code",
   "execution_count": 563,
   "id": "weighted-purchase",
   "metadata": {},
   "outputs": [
    {
     "data": {
      "text/plain": [
       "[(23, '忽报洞后迤西银冶洞二十一洞主杨锋引三万兵来助战'),\n",
       " (21, '于是陆逊总率江南八十一州并荆湖之众七十余万'),\n",
       " (20, '遂皆以金珠玩好结构何进弟何苗并其母舞阳君'),\n",
       " (20, '密遣人探得关公果然撤荆州大半兵赴樊城听调'),\n",
       " (20, '卓命扶何太后并弘农王及帝妃唐氏永安宫闲住'),\n",
       " (20, '今将孟获并祝融夫人及宗党数百余人尽皆擒来'),\n",
       " (19, '说杨仪令先锋何平引兵自槎山小路抄来搦战'),\n",
       " (19, '臣已算定今番诸葛亮必效韩信暗度陈仓之计'),\n",
       " (18, '躁乃令曹洪引数十骑径出阵前与韩遂相见'),\n",
       " (18, '请降诏遣左车骑将军张翼领兵守护阳安关'),\n",
       " (18, '忽报黄巾贼党管亥部领群寇数万杀奔前来'),\n",
       " (18, '吕布使人探听得张勋一军从大路径取徐州'),\n",
       " (18, '只见一人将着严白虎首级来孙策军前投献'),\n",
       " (18, '原来黄忠预先使严颜引军埋伏于山僻去处'),\n",
       " (18, '原来孔明果遣赵云引一军埋伏于山僻之中'),\n",
       " (18, '即修书令云长同孙乾领五百军往江夏求救'),\n",
       " (18, '其祖张陵在西川鹄鸣山中造作道书以惑人'),\n",
       " (18, '公就令兴赍诸官立功文书去成都见汉中王'),\n",
       " (18, '享于故殁王事蜀中将校及南人亡者阴魂曰'),\n",
       " (18, '且说徐庶当晚密使近人去各寨中暗布谣言')]"
      ]
     },
     "execution_count": 563,
     "metadata": {},
     "output_type": "execute_result"
    }
   ],
   "source": [
    "# 查看句子长度\n",
    "len_pq = []\n",
    "len_freq = defaultdict(int)\n",
    "for w in words:\n",
    "    heapq.heappush(len_pq, (len(w), w))\n",
    "    len_freq[len(w)] += 1\n",
    "heapq.nlargest(20, len_pq)"
   ]
  },
  {
   "cell_type": "code",
   "execution_count": 564,
   "id": "strange-relationship",
   "metadata": {},
   "outputs": [],
   "source": [
    "import gensim.models\n",
    "model = gensim.models.Word2Vec(sentences=words)"
   ]
  },
  {
   "cell_type": "code",
   "execution_count": 565,
   "id": "secret-lounge",
   "metadata": {},
   "outputs": [
    {
     "name": "stdout",
     "output_type": "stream",
     "text": [
      "word #0/2723 is 曰\n",
      "word #1/2723 is 之\n",
      "word #2/2723 is 不\n",
      "word #3/2723 is 人\n",
      "word #4/2723 is 军\n",
      "word #5/2723 is 兵\n",
      "word #6/2723 is 大\n",
      "word #7/2723 is 一\n",
      "word #8/2723 is 马\n",
      "word #9/2723 is 将\n"
     ]
    }
   ],
   "source": [
    "for index, word in enumerate(model.wv.index2word):\n",
    "    if index == 10:\n",
    "        break\n",
    "    print(f\"word #{index}/{len(model.wv.index2word)} is {word}\")"
   ]
  },
  {
   "cell_type": "code",
   "execution_count": 569,
   "id": "known-mustang",
   "metadata": {},
   "outputs": [
    {
     "name": "stdout",
     "output_type": "stream",
     "text": [
      "[('葛', 0.8061442375183105), ('诚', 0.7010466456413269), ('算', 0.6980822086334229), ('妙', 0.6959845423698425), ('窃', 0.6919589042663574)]\n"
     ]
    }
   ],
   "source": [
    "print(model.wv.most_similar(positive=['亮'], topn=5))\n",
    "# 莫名奇妙？"
   ]
  },
  {
   "cell_type": "code",
   "execution_count": 589,
   "id": "danish-geography",
   "metadata": {},
   "outputs": [],
   "source": [
    "from gensim import utils\n",
    "class biCorpus:\n",
    "    # 传入sentence vector\n",
    "    def __init__(self, data):\n",
    "        self.data = data\n",
    "        \n",
    "    def __iter__(self):\n",
    "        for word in self.data:\n",
    "            len_w = len(word)\n",
    "            if len_w < 2:\n",
    "                continue\n",
    "            idx = 0\n",
    "            while idx + 2 <= len_w:\n",
    "                yield utils.simple_preprocess(word[idx:idx+2])\n",
    "                idx += 1"
   ]
  },
  {
   "cell_type": "code",
   "execution_count": 593,
   "id": "exotic-henry",
   "metadata": {},
   "outputs": [],
   "source": [
    "biword = biCorpus(words)"
   ]
  },
  {
   "cell_type": "code",
   "execution_count": 591,
   "id": "adjacent-bones",
   "metadata": {},
   "outputs": [],
   "source": [
    "bimodel = gensim.models.Word2Vec(sentences=biword)"
   ]
  },
  {
   "cell_type": "code",
   "execution_count": 592,
   "id": "acknowledged-reason",
   "metadata": {},
   "outputs": [
    {
     "name": "stdout",
     "output_type": "stream",
     "text": [
      "word #0/14945 is 玄德\n",
      "word #1/14945 is 孔明\n",
      "word #2/14945 is 将军\n",
      "word #3/14945 is 曹躁\n",
      "word #4/14945 is 却说\n",
      "word #5/14945 is 司马\n",
      "word #6/14945 is 不可\n",
      "word #7/14945 is 二人\n",
      "word #8/14945 is 丞相\n",
      "word #9/14945 is 关公\n"
     ]
    }
   ],
   "source": [
    "for index, word in enumerate(bimodel.wv.index2word):\n",
    "    if index == 10:\n",
    "        break\n",
    "    print(f\"word #{index}/{len(bimodel.wv.index2word)} is {word}\")"
   ]
  },
  {
   "cell_type": "code",
   "execution_count": 609,
   "id": "floating-height",
   "metadata": {},
   "outputs": [
    {
     "name": "stdout",
     "output_type": "stream",
     "text": [
      "[('吐血', 0.3939374089241028), ('高阜', 0.36525383591651917), ('号炮', 0.35700976848602295), ('与贼', 0.34512966871261597), ('欲往', 0.34013622999191284)]\n"
     ]
    }
   ],
   "source": [
    "print(bimodel.wv.most_similar(positive=['八月'], topn=5))\n",
    "# word2vec 意义不太明确"
   ]
  },
  {
   "cell_type": "code",
   "execution_count": 605,
   "id": "temporal-equity",
   "metadata": {},
   "outputs": [
    {
     "data": {
      "text/plain": [
       "[('将天', 0.3280360996723175),\n",
       " ('黄汉', 0.3258560299873352),\n",
       " ('九十', 0.3201206922531128),\n",
       " ('将闻', 0.3198445439338684),\n",
       " ('吾死', 0.3089180588722229),\n",
       " ('谓贾', 0.3038843274116516),\n",
       " ('报父', 0.2981683909893036),\n",
       " ('借精', 0.29795825481414795),\n",
       " ('取吕', 0.2978658378124237),\n",
       " ('公文', 0.2973858118057251)]"
      ]
     },
     "execution_count": 605,
     "metadata": {},
     "output_type": "execute_result"
    }
   ],
   "source": [
    "bimodel.wv.similar_by_word('司马')"
   ]
  },
  {
   "cell_type": "code",
   "execution_count": 610,
   "id": "theoretical-shadow",
   "metadata": {},
   "outputs": [],
   "source": [
    "import pandas as pd\n",
    "from sklearn.feature_extraction.text import CountVectorizer"
   ]
  },
  {
   "cell_type": "code",
   "execution_count": 625,
   "id": "adaptive-stage",
   "metadata": {},
   "outputs": [],
   "source": [
    "unigram = [[w for w in word] for word in words]"
   ]
  },
  {
   "cell_type": "code",
   "execution_count": 630,
   "id": "handmade-spencer",
   "metadata": {},
   "outputs": [
    {
     "data": {
      "text/plain": [
       "[['天', '涯', '在', '线', '书', '库'],\n",
       " ['三', '国', '演', '义'],\n",
       " ['第'],\n",
       " ['回'],\n",
       " ['宴', '桃', '园', '豪', '杰', '三', '结', '义'],\n",
       " ['斩', '黄', '巾', '英', '雄', '首', '立', '功'],\n",
       " ['滚', '滚', '长', '江', '东', '逝', '水'],\n",
       " ['浪', '花', '淘', '尽', '英', '雄'],\n",
       " ['是', '非', '成', '败', '转', '头', '空'],\n",
       " ['青', '山', '依', '旧', '在']]"
      ]
     },
     "execution_count": 630,
     "metadata": {},
     "output_type": "execute_result"
    }
   ],
   "source": [
    "unigram[:10]"
   ]
  },
  {
   "cell_type": "code",
   "execution_count": 639,
   "id": "understanding-model",
   "metadata": {},
   "outputs": [],
   "source": [
    "bow_converter = CountVectorizer(token_pattern='[\\u4e00-\\u9fa5]')"
   ]
  },
  {
   "cell_type": "code",
   "execution_count": 640,
   "id": "reliable-transportation",
   "metadata": {},
   "outputs": [
    {
     "data": {
      "text/plain": [
       "CountVectorizer(token_pattern='[一-龥]')"
      ]
     },
     "execution_count": 640,
     "metadata": {},
     "output_type": "execute_result"
    }
   ],
   "source": [
    "bow_converter.fit(words)"
   ]
  },
  {
   "cell_type": "code",
   "execution_count": 641,
   "id": "fifth-conducting",
   "metadata": {},
   "outputs": [],
   "source": [
    "bow = bow_converter.get_feature_names()"
   ]
  },
  {
   "cell_type": "code",
   "execution_count": 642,
   "id": "noted-vanilla",
   "metadata": {},
   "outputs": [
    {
     "data": {
      "text/plain": [
       "3871"
      ]
     },
     "execution_count": 642,
     "metadata": {},
     "output_type": "execute_result"
    }
   ],
   "source": [
    "len(bow)"
   ]
  },
  {
   "cell_type": "code",
   "execution_count": 644,
   "id": "outer-foster",
   "metadata": {},
   "outputs": [
    {
     "data": {
      "text/plain": [
       "['一', '丁', '七', '万', '丈', '三', '上', '下', '不', '与']"
      ]
     },
     "execution_count": 644,
     "metadata": {},
     "output_type": "execute_result"
    }
   ],
   "source": [
    "bow[:10]"
   ]
  },
  {
   "cell_type": "code",
   "execution_count": 658,
   "id": "legislative-mistake",
   "metadata": {},
   "outputs": [
    {
     "data": {
      "text/plain": [
       "CountVectorizer(ngram_range=(1, 3), token_pattern='[一-龥]')"
      ]
     },
     "execution_count": 658,
     "metadata": {},
     "output_type": "execute_result"
    }
   ],
   "source": [
    "bigram_converter = CountVectorizer(ngram_range=(1,3), token_pattern='[\\u4e00-\\u9fa5]')\n",
    "bigram_converter.fit(words)"
   ]
  },
  {
   "cell_type": "code",
   "execution_count": 659,
   "id": "august-bones",
   "metadata": {},
   "outputs": [
    {
     "data": {
      "text/plain": [
       "['龚 景 牒',\n",
       " '龚 景 犒',\n",
       " '龚 起',\n",
       " '龚 起 应',\n",
       " '龚 起 接',\n",
       " '龚 都',\n",
       " '龚 都 便',\n",
       " '龚 都 差',\n",
       " '龚 都 已',\n",
       " '龚 都 披',\n",
       " '龚 都 接',\n",
       " '龚 都 数',\n",
       " '龚 都 素',\n",
       " '龚 都 自',\n",
       " '龚 都 运',\n",
       " '龛',\n",
       " '龛 中',\n",
       " '龟',\n",
       " '龟 纽',\n",
       " '龟 纽 墨']"
      ]
     },
     "execution_count": 659,
     "metadata": {},
     "output_type": "execute_result"
    }
   ],
   "source": [
    "bigram = bigram_converter.get_feature_names()\n",
    "bigram[-20:]"
   ]
  },
  {
   "cell_type": "code",
   "execution_count": 669,
   "id": "overall-election",
   "metadata": {},
   "outputs": [],
   "source": [
    "# converter 看不到词频\n",
    "def ngram_counter(data, n=1):\n",
    "    freq = defaultdict(int)\n",
    "    for word in data:\n",
    "        idx = 0\n",
    "        wordlen = len(word)\n",
    "        while idx + n <= wordlen:\n",
    "            freq[word[idx:idx+n]] += 1\n",
    "            idx += 1\n",
    "    \n",
    "    return freq"
   ]
  },
  {
   "cell_type": "code",
   "execution_count": 707,
   "id": "extended-glory",
   "metadata": {},
   "outputs": [],
   "source": [
    "uni_pq = []\n",
    "unigram = ngram_counter(words, 1)\n",
    "for k, v in unigram.items():\n",
    "    heapq.heappush(uni_pq, (v, k))"
   ]
  },
  {
   "cell_type": "code",
   "execution_count": 708,
   "id": "warming-version",
   "metadata": {},
   "outputs": [
    {
     "data": {
      "text/plain": [
       "[(1, '丐'),\n",
       " (1, '乳'),\n",
       " (1, '亘'),\n",
       " (1, '亟'),\n",
       " (1, '仞'),\n",
       " (1, '佣'),\n",
       " (1, '侠'),\n",
       " (1, '侪'),\n",
       " (1, '俨'),\n",
       " (1, '倥')]"
      ]
     },
     "execution_count": 708,
     "metadata": {},
     "output_type": "execute_result"
    }
   ],
   "source": [
    "heapq.nsmallest(10, uni_pq)"
   ]
  },
  {
   "cell_type": "code",
   "execution_count": 709,
   "id": "noticed-insertion",
   "metadata": {},
   "outputs": [],
   "source": [
    "bi_pq = []\n",
    "bigram = ngram_counter(words, 2)\n",
    "for k, v in bigram.items():\n",
    "    heapq.heappush(bi_pq, (v, k))"
   ]
  },
  {
   "cell_type": "code",
   "execution_count": 710,
   "id": "directed-husband",
   "metadata": {},
   "outputs": [
    {
     "data": {
      "text/plain": [
       "[(1812, '玄德'),\n",
       " (1690, '孔明'),\n",
       " (940, '将军'),\n",
       " (842, '曹躁'),\n",
       " (647, '却说'),\n",
       " (570, '司马'),\n",
       " (563, '不可'),\n",
       " (561, '二人'),\n",
       " (546, '丞相'),\n",
       " (519, '关公')]"
      ]
     },
     "execution_count": 710,
     "metadata": {},
     "output_type": "execute_result"
    }
   ],
   "source": [
    "heapq.nlargest(10, bi_pq)"
   ]
  },
  {
   "cell_type": "code",
   "execution_count": 711,
   "id": "medieval-archive",
   "metadata": {},
   "outputs": [],
   "source": [
    "tri_pq = []\n",
    "trigram = ngram_counter(words, 3)\n",
    "for k, v in trigram.items():\n",
    "    heapq.heappush(tri_pq, (v, k))"
   ]
  },
  {
   "cell_type": "code",
   "execution_count": 712,
   "id": "northern-intro",
   "metadata": {},
   "outputs": [
    {
     "data": {
      "text/plain": [
       "[(385, '孔明曰'),\n",
       " (383, '玄德曰'),\n",
       " (287, '司马懿'),\n",
       " (157, '诸葛亮'),\n",
       " (152, '后人有'),\n",
       " (147, '人有诗'),\n",
       " (115, '大怒曰'),\n",
       " (114, '文分解'),\n",
       " (114, '下文分'),\n",
       " (93, '引一军')]"
      ]
     },
     "execution_count": 712,
     "metadata": {},
     "output_type": "execute_result"
    }
   ],
   "source": [
    "heapq.nlargest(10, tri_pq)"
   ]
  },
  {
   "cell_type": "code",
   "execution_count": 713,
   "id": "whole-covering",
   "metadata": {},
   "outputs": [],
   "source": [
    "four_pq = []\n",
    "fourgram = ngram_counter(words, 4)\n",
    "for k, v in fourgram.items():\n",
    "    heapq.heappush(four_pq, (v, k))"
   ]
  },
  {
   "cell_type": "code",
   "execution_count": 714,
   "id": "pleased-dining",
   "metadata": {},
   "outputs": [
    {
     "data": {
      "text/plain": [
       "[(146, '后人有诗'),\n",
       " (114, '下文分解'),\n",
       " (80, '看下文分'),\n",
       " (80, '且看下文'),\n",
       " (71, '如之奈何'),\n",
       " (55, '喊声大震'),\n",
       " (54, '人有诗赞'),\n",
       " (54, '人有诗叹'),\n",
       " (51, '如此如此'),\n",
       " (48, '却说孔明')]"
      ]
     },
     "execution_count": 714,
     "metadata": {},
     "output_type": "execute_result"
    }
   ],
   "source": [
    "heapq.nlargest(10, four_pq)"
   ]
  },
  {
   "cell_type": "code",
   "execution_count": 715,
   "id": "planned-indian",
   "metadata": {},
   "outputs": [],
   "source": [
    "fsorted = [heapq.heappop(four_pq) for i in range(len(four_pq))]\n",
    "tsorted = [heapq.heappop(tri_pq) for i in range(len(tri_pq))]\n",
    "bsorted = [heapq.heappop(bi_pq) for i in range(len(bi_pq))]\n",
    "usorted = [heapq.heappop(uni_pq) for i in range(len(uni_pq))]"
   ]
  },
  {
   "cell_type": "code",
   "execution_count": 716,
   "id": "necessary-patio",
   "metadata": {},
   "outputs": [
    {
     "data": {
      "text/plain": [
       "4073"
      ]
     },
     "execution_count": 716,
     "metadata": {},
     "output_type": "execute_result"
    }
   ],
   "source": [
    "fword = [(v, k) for v, k in fsorted if v > 5]\n",
    "tword = [(v, k) for v, k in tsorted if v > 5]\n",
    "bword = [(v, k) for v, k in bsorted if v > 5]\n",
    "uword = [(v, k) for v, k in usorted if v > 5]"
   ]
  },
  {
   "cell_type": "code",
   "execution_count": 732,
   "id": "romance-technology",
   "metadata": {},
   "outputs": [
    {
     "data": {
      "text/plain": [
       "[(6, '优曰'),\n",
       " (6, '净曰'),\n",
       " (6, '吏曰'),\n",
       " (6, '宪曰'),\n",
       " (6, '徽曰'),\n",
       " (6, '忖曰'),\n",
       " (6, '授曰'),\n",
       " (6, '朗曰'),\n",
       " (6, '术曰'),\n",
       " (6, '楙曰'),\n",
       " (6, '温曰'),\n",
       " (6, '皓曰'),\n",
       " (6, '秀曰'),\n",
       " (6, '童曰'),\n",
       " (6, '累曰'),\n",
       " (6, '谕曰'),\n",
       " (6, '谦曰'),\n",
       " (6, '钦曰'),\n",
       " (6, '震曰'),\n",
       " (6, '马曰'),\n",
       " (7, '亮曰'),\n",
       " (7, '均曰'),\n",
       " (7, '恢曰'),\n",
       " (7, '琮曰'),\n",
       " (7, '瓘曰'),\n",
       " (7, '纪曰'),\n",
       " (7, '请曰'),\n",
       " (7, '足曰'),\n",
       " (8, '仓曰'),\n",
       " (8, '仪曰'),\n",
       " (8, '入曰'),\n",
       " (8, '前曰'),\n",
       " (8, '灵曰'),\n",
       " (8, '爽曰'),\n",
       " (8, '绣曰'),\n",
       " (8, '翼曰'),\n",
       " (8, '老曰'),\n",
       " (8, '越曰'),\n",
       " (8, '首曰'),\n",
       " (9, '任曰'),\n",
       " (9, '兴曰'),\n",
       " (9, '典曰'),\n",
       " (9, '咨曰'),\n",
       " (9, '封曰'),\n",
       " (9, '张曰'),\n",
       " (9, '氏曰'),\n",
       " (9, '盛曰'),\n",
       " (9, '籍曰'),\n",
       " (9, '芳曰'),\n",
       " (9, '见曰'),\n",
       " (9, '诏曰'),\n",
       " (9, '辞曰'),\n",
       " (10, '劝曰'),\n",
       " (10, '坚曰'),\n",
       " (10, '奉曰'),\n",
       " (10, '定曰'),\n",
       " (10, '文曰'),\n",
       " (10, '苞曰'),\n",
       " (10, '贺曰'),\n",
       " (10, '颜曰'),\n",
       " (11, '下曰'),\n",
       " (11, '使曰'),\n",
       " (11, '太曰'),\n",
       " (11, '妻曰'),\n",
       " (11, '宁曰'),\n",
       " (11, '宠曰'),\n",
       " (11, '望曰'),\n",
       " (11, '洪曰'),\n",
       " (11, '瓒曰'),\n",
       " (11, '腾曰'),\n",
       " (11, '配曰'),\n",
       " (12, '乃曰'),\n",
       " (12, '服曰'),\n",
       " (12, '歆曰'),\n",
       " (12, '歌曰'),\n",
       " (12, '淮曰'),\n",
       " (12, '琦曰'),\n",
       " (12, '禁曰'),\n",
       " (12, '蝉曰'),\n",
       " (12, '雍曰'),\n",
       " (13, '化曰'),\n",
       " (13, '晃曰'),\n",
       " (13, '泰曰'),\n",
       " (13, '王曰'),\n",
       " (13, '衡曰'),\n",
       " (13, '计曰'),\n",
       " (14, '图曰'),\n",
       " (14, '干曰'),\n",
       " (14, '手曰'),\n",
       " (14, '普曰'),\n",
       " (14, '汜曰'),\n",
       " (14, '盖曰'),\n",
       " (14, '福曰'),\n",
       " (14, '臣曰'),\n",
       " (14, '色曰'),\n",
       " (14, '褚曰'),\n",
       " (14, '达曰'),\n",
       " (14, '镜曰'),\n",
       " (15, '佗曰'),\n",
       " (15, '充曰'),\n",
       " (15, '嘱曰'),\n",
       " (15, '士曰'),\n",
       " (15, '师曰'),\n",
       " (15, '晔曰'),\n",
       " (15, '然曰'),\n",
       " (15, '瑁曰'),\n",
       " (15, '登曰'),\n",
       " (15, '礼曰'),\n",
       " (15, '竺曰'),\n",
       " (15, '谡曰'),\n",
       " (15, '起曰'),\n",
       " (15, '霸曰'),\n",
       " (16, '丰曰'),\n",
       " (16, '书曰'),\n",
       " (16, '岱曰'),\n",
       " (16, '操曰'),\n",
       " (16, '芝曰'),\n",
       " (16, '蒙曰'),\n",
       " (16, '郃曰'),\n",
       " (17, '修曰'),\n",
       " (17, '庶曰'),\n",
       " (17, '璋曰'),\n",
       " (17, '祎曰'),\n",
       " (17, '良曰'),\n",
       " (17, '艾曰'),\n",
       " (17, '范曰'),\n",
       " (18, '儒曰'),\n",
       " (18, '嘉曰'),\n",
       " (18, '正曰'),\n",
       " (18, '皆曰'),\n",
       " (18, '睿曰'),\n",
       " (19, '仁曰'),\n",
       " (19, '真曰'),\n",
       " (19, '辂曰'),\n",
       " (20, '子曰'),\n",
       " (20, '延曰'),\n",
       " (20, '思曰'),\n",
       " (20, '瑾曰'),\n",
       " (20, '融曰'),\n",
       " (21, '丕曰'),\n",
       " (21, '对曰'),\n",
       " (21, '遂曰'),\n",
       " (22, '乾曰'),\n",
       " (22, '会曰'),\n",
       " (22, '谓曰'),\n",
       " (23, '后曰'),\n",
       " (23, '慈曰'),\n",
       " (24, '昱曰'),\n",
       " (24, '泽曰'),\n",
       " (24, '超曰'),\n",
       " (25, '指曰'),\n",
       " (25, '逊曰'),\n",
       " (26, '者曰'),\n",
       " (27, '右曰'),\n",
       " (27, '应曰'),\n",
       " (27, '忠曰'),\n",
       " (27, '攸曰'),\n",
       " (29, '令曰'),\n",
       " (29, '又曰'),\n",
       " (29, '拜曰'),\n",
       " (29, '泣曰'),\n",
       " (29, '获曰'),\n",
       " (30, '名曰'),\n",
       " (30, '报曰'),\n",
       " (31, '地曰'),\n",
       " (31, '承曰'),\n",
       " (31, '策曰'),\n",
       " (32, '卓曰'),\n",
       " (33, '声曰'),\n",
       " (33, '赞曰'),\n",
       " (34, '官曰'),\n",
       " (34, '平曰'),\n",
       " (35, '允曰'),\n",
       " (35, '略曰'),\n",
       " (36, '哭曰'),\n",
       " (36, '诩曰'),\n",
       " (36, '辽曰'),\n",
       " (38, '松曰'),\n",
       " (39, '帝曰'),\n",
       " (40, '宫曰'),\n",
       " (41, '表曰'),\n",
       " (47, '谢曰'),\n",
       " (48, '呼曰'),\n",
       " (49, '云曰'),\n",
       " (49, '统曰'),\n",
       " (53, '喝曰'),\n",
       " (53, '绍曰'),\n",
       " (54, '叱曰'),\n",
       " (55, '付曰'),\n",
       " (57, '维曰'),\n",
       " (60, '昭曰'),\n",
       " (60, '进曰'),\n",
       " (61, '诗曰'),\n",
       " (62, '长曰'),\n",
       " (63, '主曰'),\n",
       " (72, '骂曰'),\n",
       " (75, '出曰'),\n",
       " (76, '议曰'),\n",
       " (79, '飞曰'),\n",
       " (90, '喜曰'),\n",
       " (91, '布曰'),\n",
       " (93, '人曰'),\n",
       " (94, '言曰'),\n",
       " (98, '谏曰'),\n",
       " (99, '懿曰'),\n",
       " (106, '惊曰'),\n",
       " (107, '将曰'),\n",
       " (107, '权曰'),\n",
       " (108, '告曰'),\n",
       " (109, '叫曰'),\n",
       " (109, '答曰'),\n",
       " (111, '公曰'),\n",
       " (119, '瑜曰'),\n",
       " (122, '之曰'),\n",
       " (131, '肃曰'),\n",
       " (153, '叹曰'),\n",
       " (155, '奏曰'),\n",
       " (196, '怒曰'),\n",
       " (260, '问曰'),\n",
       " (294, '笑曰'),\n",
       " (314, '躁曰'),\n",
       " (386, '明曰'),\n",
       " (392, '德曰')]"
      ]
     },
     "execution_count": 732,
     "metadata": {},
     "output_type": "execute_result"
    }
   ],
   "source": [
    "[(k, v) for k, v in bword if v.endswith(\"曰\")]"
   ]
  },
  {
   "cell_type": "code",
   "execution_count": null,
   "id": "durable-power",
   "metadata": {},
   "outputs": [],
   "source": []
  }
 ],
 "metadata": {
  "kernelspec": {
   "display_name": "Python 3",
   "language": "python",
   "name": "python3"
  },
  "language_info": {
   "codemirror_mode": {
    "name": "ipython",
    "version": 3
   },
   "file_extension": ".py",
   "mimetype": "text/x-python",
   "name": "python",
   "nbconvert_exporter": "python",
   "pygments_lexer": "ipython3",
   "version": "3.7.2"
  }
 },
 "nbformat": 4,
 "nbformat_minor": 5
}
